{
 "cells": [
  {
   "cell_type": "markdown",
   "metadata": {
    "colab_type": "text",
    "id": "qissZLB9IuNL"
   },
   "source": [
    "Chapter 03. 신경망 (part 2)\n",
    "hfpsych lab workshop\n",
    "2019.7.23 Tue. Yoon Kyung Lee\n",
    "\n",
    "## 3.3 다차원 배열의 계산 \n",
    "### 3.3.1 다차원 배열\n",
    "### 3.3.2. 행렬의 곱\n",
    "### 3.3.3. 신경망에서의 행렬 곱\n",
    "## 3.4. 3층 신경망 구현하기\n",
    "### 3.4.1. 표기법 설명\n",
    "### 3.4.2. 각 층의 신호 전달 구현하기\n",
    "### 3.4.3. 구현 정리\n",
    "----\n",
    "(금요일에 이어서 )\n",
    "## 3.5. 출력층 설계하기\n",
    "### 3.5.1. 항등 함수와 소프트맥스 함수 구현하기\n",
    "### 3.5.2. 소프트맥스 함수 구현 시 주의점\n",
    "### 3.5.3. 소프트맥스 함수의 특징\n",
    "### 3.5.4. 출력층의 뉴런 수 정하기\n"
   ]
  },
  {
   "cell_type": "markdown",
   "metadata": {
    "colab_type": "text",
    "id": "Aef-6qFCK3wn"
   },
   "source": [
    "<a id = 'section 3.3'></a>"
   ]
  },
  {
   "cell_type": "markdown",
   "metadata": {
    "colab_type": "text",
    "id": "fT75VBNvMPLF"
   },
   "source": [
    "### 3.3. 다차원 배열의 계산"
   ]
  },
  {
   "cell_type": "markdown",
   "metadata": {
    "colab_type": "text",
    "id": "gB6PkL1uMTZu"
   },
   "source": [
    "넘파이의 다차원 배열을 사용한 계산법을 숙달하면 신경망을 효율적으로 구현할 수 있다. "
   ]
  },
  {
   "cell_type": "markdown",
   "metadata": {
    "colab_type": "text",
    "id": "ueKiHURnMsqk"
   },
   "source": [
    "### 3.3.1. 다차원 배열\n",
    "\n",
    "지금까지 보아온 1차원 배열은 다음과 같다"
   ]
  },
  {
   "cell_type": "code",
   "execution_count": 1,
   "metadata": {
    "colab": {
     "base_uri": "https://localhost:8080/",
     "height": 34
    },
    "colab_type": "code",
    "id": "HIyLWo6BMyp8",
    "outputId": "a90ca06d-9378-43f3-f042-91ce3a52a1d7"
   },
   "outputs": [
    {
     "name": "stdout",
     "output_type": "stream",
     "text": [
      "[1 2 3 4]\n"
     ]
    }
   ],
   "source": [
    "import numpy as np\n",
    "A = np.array([1,2,3,4])\n",
    "print(A)"
   ]
  },
  {
   "cell_type": "code",
   "execution_count": 2,
   "metadata": {
    "colab": {
     "base_uri": "https://localhost:8080/",
     "height": 34
    },
    "colab_type": "code",
    "id": "WqeN5eQkM2UD",
    "outputId": "0d5ca617-0cea-4981-c088-6898d24b183a"
   },
   "outputs": [
    {
     "data": {
      "text/plain": [
       "1"
      ]
     },
     "execution_count": 2,
     "metadata": {},
     "output_type": "execute_result"
    }
   ],
   "source": [
    "np.ndim(A) #배열의 차원수는 np.ndim()함수로 확인할 수 있다. "
   ]
  },
  {
   "cell_type": "code",
   "execution_count": 3,
   "metadata": {
    "colab": {
     "base_uri": "https://localhost:8080/",
     "height": 34
    },
    "colab_type": "code",
    "id": "uaXEUcZcM3gC",
    "outputId": "72239adc-3320-4692-ed4d-59adda13b38e"
   },
   "outputs": [
    {
     "data": {
      "text/plain": [
       "(4,)"
      ]
     },
     "execution_count": 3,
     "metadata": {},
     "output_type": "execute_result"
    }
   ],
   "source": [
    "A.shape #또한 배열의 형상은 인스턴스 변수인 shape로 알 수 있다. "
   ]
  },
  {
   "cell_type": "code",
   "execution_count": 4,
   "metadata": {
    "colab": {
     "base_uri": "https://localhost:8080/",
     "height": 34
    },
    "colab_type": "code",
    "id": "eyklu3BDM4Ky",
    "outputId": "7ee04e03-43b4-433c-c095-44eb159fb3e0"
   },
   "outputs": [
    {
     "data": {
      "text/plain": [
       "4"
      ]
     },
     "execution_count": 4,
     "metadata": {},
     "output_type": "execute_result"
    }
   ],
   "source": [
    "A.shape[0] "
   ]
  },
  {
   "cell_type": "markdown",
   "metadata": {
    "colab_type": "text",
    "id": "T1qO4r0IM5SE"
   },
   "source": [
    "2차원 배열을 반환해보자"
   ]
  },
  {
   "cell_type": "code",
   "execution_count": 0,
   "metadata": {
    "colab": {},
    "colab_type": "code",
    "id": "4ewZyuyzNRK2"
   },
   "outputs": [],
   "source": [
    "B = np.array([[1,2],[3,4],[5,6]])"
   ]
  },
  {
   "cell_type": "code",
   "execution_count": 7,
   "metadata": {
    "colab": {
     "base_uri": "https://localhost:8080/",
     "height": 68
    },
    "colab_type": "code",
    "id": "dQ7YO3AHNVTG",
    "outputId": "9ae84aea-e05f-453b-eecf-c75f92e9bddf"
   },
   "outputs": [
    {
     "name": "stdout",
     "output_type": "stream",
     "text": [
      "[[1 2]\n",
      " [3 4]\n",
      " [5 6]]\n"
     ]
    }
   ],
   "source": [
    "print(B)"
   ]
  },
  {
   "cell_type": "code",
   "execution_count": 9,
   "metadata": {
    "colab": {
     "base_uri": "https://localhost:8080/",
     "height": 34
    },
    "colab_type": "code",
    "id": "4TMYO8x9NZ4H",
    "outputId": "49ec664d-41b1-4ea6-991f-a9ccd8c66782"
   },
   "outputs": [
    {
     "data": {
      "text/plain": [
       "2"
      ]
     },
     "execution_count": 9,
     "metadata": {
      "tags": []
     },
     "output_type": "execute_result"
    }
   ],
   "source": [
    "np.ndim(B)"
   ]
  },
  {
   "cell_type": "code",
   "execution_count": 10,
   "metadata": {
    "colab": {
     "base_uri": "https://localhost:8080/",
     "height": 34
    },
    "colab_type": "code",
    "id": "vugABe4HNbSY",
    "outputId": "bb0edb3a-d724-48be-90d3-330c6ab8fcbf"
   },
   "outputs": [
    {
     "data": {
      "text/plain": [
       "(3, 2)"
      ]
     },
     "execution_count": 10,
     "metadata": {
      "tags": []
     },
     "output_type": "execute_result"
    }
   ],
   "source": [
    "B.shape #3x2 배열인 B를 작성했다. "
   ]
  },
  {
   "cell_type": "markdown",
   "metadata": {
    "colab_type": "text",
    "id": "CJFblurPNebA"
   },
   "source": [
    "3x2 배열은 처음 차원에는 원소가 3개, 다음 차원에는 원소가 2개 있다는 의미이다. 이때 처음 차원은 0번째 차원, 다음 차원은 1번째 차원에 대응한다 (파이썬의 인덱스는 0부터 시작한다)\n",
    "\n",
    "2차원 배열은 특히 행렬<sup>matrix</sup>이라고 부른다. "
   ]
  },
  {
   "cell_type": "markdown",
   "metadata": {
    "colab_type": "text",
    "id": "AoewScJkN0U0"
   },
   "source": [
    "### 3.3.2. 행렬의 곱"
   ]
  },
  {
   "cell_type": "markdown",
   "metadata": {
    "colab_type": "text",
    "id": "-iCosGsTN2K3"
   },
   "source": [
    "### 그림 3-11. 행렬의 곱\n",
    "\n",
    "행렬 곱은 왼쪽 행렬의 행(가로)과 오른쪽 행렬의 열(세로)을 원소별로 곱하고 그 값들을 더해서 계산한다. 그 계산 결과가 새로운 다차원 배열의 원소가 된다. \n",
    "\n",
    "예를 들어 A의 1행과 B의 1열을 곱한 값은 결과 행렬의 1행 1번째 원소가 되고, A의 2행과 B의 1열을 곱한 결과는 2행 1번째 원소가 된다. \n",
    "\n",
    "파이썬으로 구현한 행렬의 곱"
   ]
  },
  {
   "cell_type": "code",
   "execution_count": 11,
   "metadata": {
    "colab": {
     "base_uri": "https://localhost:8080/",
     "height": 34
    },
    "colab_type": "code",
    "id": "5wKQz2KZORdC",
    "outputId": "88167963-360e-4cbb-dd5b-ffff1ad4df84"
   },
   "outputs": [
    {
     "data": {
      "text/plain": [
       "(2, 2)"
      ]
     },
     "execution_count": 11,
     "metadata": {
      "tags": []
     },
     "output_type": "execute_result"
    }
   ],
   "source": [
    "A = np.array([[1,2],[3,4]])\n",
    "A.shape"
   ]
  },
  {
   "cell_type": "code",
   "execution_count": 0,
   "metadata": {
    "colab": {},
    "colab_type": "code",
    "id": "ug9FeCvuOVYM"
   },
   "outputs": [],
   "source": [
    "B = np.array([[5,6],[7,8]])"
   ]
  },
  {
   "cell_type": "code",
   "execution_count": 13,
   "metadata": {
    "colab": {
     "base_uri": "https://localhost:8080/",
     "height": 34
    },
    "colab_type": "code",
    "id": "aoLnD-svOYgX",
    "outputId": "a846b9e3-3a1e-4fe0-caf1-cc23c487142f"
   },
   "outputs": [
    {
     "data": {
      "text/plain": [
       "(2, 2)"
      ]
     },
     "execution_count": 13,
     "metadata": {
      "tags": []
     },
     "output_type": "execute_result"
    }
   ],
   "source": [
    "B.shape"
   ]
  },
  {
   "cell_type": "code",
   "execution_count": 14,
   "metadata": {
    "colab": {
     "base_uri": "https://localhost:8080/",
     "height": 51
    },
    "colab_type": "code",
    "id": "oxARniWSOZO3",
    "outputId": "7ed399af-90b2-421e-f8e7-013d9a25dfb6"
   },
   "outputs": [
    {
     "data": {
      "text/plain": [
       "array([[19, 22],\n",
       "       [43, 50]])"
      ]
     },
     "execution_count": 14,
     "metadata": {
      "tags": []
     },
     "output_type": "execute_result"
    }
   ],
   "source": [
    "np.dot(A,B) #A와 B는 2x2행렬이며, 두 행렬의 곱은 넘파이 함수 np.doct()으로 계산한다"
   ]
  },
  {
   "cell_type": "markdown",
   "metadata": {
    "colab_type": "text",
    "id": "d-hpUoX3Oal2"
   },
   "source": [
    "np.dot()은 입력이 1차원 배열이면 벡터를, 2차원 배열이면 행렬 곱을 계산한다. \n",
    "\n",
    "np.dot(A,B)와 np.dot(B,A)는 다른 값이 될 수 있다. +와 * 등의 일반적인  연산과 달리 행렬의 곱에서는 피연산자의 순서가 다르면 결과도 다르다. "
   ]
  },
  {
   "cell_type": "markdown",
   "metadata": {
    "colab_type": "text",
    "id": "iOlGzap0Ss3I"
   },
   "source": [
    "행렬 A의 1번째 차원의 원소 수 (열 수)와 행렬  B의 0번째 차원의 원소 수(행 수)가 같아야한다. \n",
    "2x3의 A와 2x2행렬 C를 곱하면 오류가 난다. "
   ]
  },
  {
   "cell_type": "markdown",
   "metadata": {
    "colab_type": "text",
    "id": "gX7XPlw0Qnsb"
   },
   "source": [
    "2x3 행렬과 3x2 행렬의 곱을 파이썬으로 구현해보아라 "
   ]
  },
  {
   "cell_type": "markdown",
   "metadata": {
    "colab_type": "text",
    "id": "eEub3UTrQ8ZS"
   },
   "source": [
    "## 실습 \n",
    "\n",
    "실습 자료 결과 값을 자신의 깃헙 레포지토리에 저장하고 링크를 제출하시오 \n",
    "\n",
    "레포지토리 이름 : hfpsych_workshop\n",
    "폴더명:DeepNLP\n",
    "파일명: w4_neuralnet_part2_본인이름.ipynb\n",
    "\n",
    "제출방법: 깃헙 레포지토리 > 폴더 안에 커밋되어있는 ipynb노트북 링크를 슬랙 sum19_study에 공유하여 제출 \n"
   ]
  },
  {
   "cell_type": "markdown",
   "metadata": {
    "colab_type": "text",
    "id": "n_OqQJ8iTmB4"
   },
   "source": [
    "1번"
   ]
  },
  {
   "cell_type": "code",
   "execution_count": 17,
   "metadata": {
    "colab": {},
    "colab_type": "code",
    "id": "mubZOeHcQw4d"
   },
   "outputs": [
    {
     "data": {
      "text/plain": [
       "(2, 2)"
      ]
     },
     "execution_count": 17,
     "metadata": {},
     "output_type": "execute_result"
    }
   ],
   "source": [
    "A = np.array([[12,1],[3,3]])\n",
    "A.shape\n",
    "#A 정의 "
   ]
  },
  {
   "cell_type": "code",
   "execution_count": 18,
   "metadata": {
    "colab": {
     "base_uri": "https://localhost:8080/",
     "height": 51
    },
    "colab_type": "code",
    "id": "ApQeTWtdQ1hR",
    "outputId": "4294356f-7abb-40a9-8479-fb0006943dcf"
   },
   "outputs": [
    {
     "data": {
      "text/plain": [
       "array([[12,  1],\n",
       "       [ 3,  3]])"
      ]
     },
     "execution_count": 18,
     "metadata": {},
     "output_type": "execute_result"
    }
   ],
   "source": [
    "A"
   ]
  },
  {
   "cell_type": "code",
   "execution_count": 19,
   "metadata": {
    "colab": {},
    "colab_type": "code",
    "id": "PByBi9G4Q4XE"
   },
   "outputs": [
    {
     "data": {
      "text/plain": [
       "(2, 2)"
      ]
     },
     "execution_count": 19,
     "metadata": {},
     "output_type": "execute_result"
    }
   ],
   "source": [
    "B = np.array([[2,0],[101,100]])\n",
    "B.shape\n",
    "#B 정의"
   ]
  },
  {
   "cell_type": "code",
   "execution_count": 20,
   "metadata": {
    "colab": {
     "base_uri": "https://localhost:8080/",
     "height": 68
    },
    "colab_type": "code",
    "id": "Mr95LR4wRtjB",
    "outputId": "443a9a7c-ea96-4b37-c579-e8aa620d2061"
   },
   "outputs": [
    {
     "data": {
      "text/plain": [
       "array([[  2,   0],\n",
       "       [101, 100]])"
      ]
     },
     "execution_count": 20,
     "metadata": {},
     "output_type": "execute_result"
    }
   ],
   "source": [
    "B"
   ]
  },
  {
   "cell_type": "code",
   "execution_count": 21,
   "metadata": {
    "colab": {
     "base_uri": "https://localhost:8080/",
     "height": 51
    },
    "colab_type": "code",
    "id": "xwT2pexSRuVi",
    "outputId": "f2492ac3-3b9f-484c-e45c-8a9b17cf5585"
   },
   "outputs": [
    {
     "data": {
      "text/plain": [
       "array([[125, 100],\n",
       "       [309, 300]])"
      ]
     },
     "execution_count": 21,
     "metadata": {},
     "output_type": "execute_result"
    }
   ],
   "source": [
    "np.dot(A,B)\n",
    "#A와 B의 행렬 곱 "
   ]
  },
  {
   "cell_type": "markdown",
   "metadata": {
    "colab_type": "text",
    "id": "vXhIrtS_TkEV"
   },
   "source": [
    "2번. 아래 연산이 오류가 나지 않게 B를 고쳐보시오"
   ]
  },
  {
   "cell_type": "code",
   "execution_count": 22,
   "metadata": {
    "colab": {},
    "colab_type": "code",
    "id": "1X68Hh00R6_o"
   },
   "outputs": [
    {
     "data": {
      "text/plain": [
       "(3, 2)"
      ]
     },
     "execution_count": 22,
     "metadata": {},
     "output_type": "execute_result"
    }
   ],
   "source": [
    "A = np.array([[1,2],[3,4],[5,6]])\n",
    "A.shape"
   ]
  },
  {
   "cell_type": "code",
   "execution_count": 26,
   "metadata": {
    "colab": {},
    "colab_type": "code",
    "id": "Z-GMm4nUTSZ1"
   },
   "outputs": [
    {
     "data": {
      "text/plain": [
       "(2, 2)"
      ]
     },
     "execution_count": 26,
     "metadata": {},
     "output_type": "execute_result"
    }
   ],
   "source": [
    "B = np.array([[7,8],[9,10]]) \n",
    "#고쳐보기 \n",
    "B.shape"
   ]
  },
  {
   "cell_type": "code",
   "execution_count": 27,
   "metadata": {
    "colab": {},
    "colab_type": "code",
    "id": "EYJvB19uTZFN"
   },
   "outputs": [
    {
     "data": {
      "text/plain": [
       "array([[ 25,  28],\n",
       "       [ 57,  64],\n",
       "       [ 89, 100]])"
      ]
     },
     "execution_count": 27,
     "metadata": {},
     "output_type": "execute_result"
    }
   ],
   "source": [
    "np.dot(A,B) \n",
    "#출력에 오류가 없어야함"
   ]
  },
  {
   "cell_type": "markdown",
   "metadata": {
    "colab_type": "text",
    "id": "xscrzAIDTg4n"
   },
   "source": [
    "### 3.3.3. 신경망에서의 행렬 곱\n",
    "\n",
    "#### 그림 3.14 행렬의 곱으로 신경망의 계산을 수행한다"
   ]
  },
  {
   "cell_type": "code",
   "execution_count": 28,
   "metadata": {
    "colab": {
     "base_uri": "https://localhost:8080/",
     "height": 34
    },
    "colab_type": "code",
    "id": "kGfH_nFwT6Jn",
    "outputId": "8f34ef69-6d5c-4beb-cd04-1703d23cb415"
   },
   "outputs": [
    {
     "data": {
      "text/plain": [
       "(2,)"
      ]
     },
     "execution_count": 28,
     "metadata": {},
     "output_type": "execute_result"
    }
   ],
   "source": [
    "X = np.array([1,2])\n",
    "X.shape"
   ]
  },
  {
   "cell_type": "code",
   "execution_count": 29,
   "metadata": {
    "colab": {
     "base_uri": "https://localhost:8080/",
     "height": 51
    },
    "colab_type": "code",
    "id": "t2gDBWuET9ey",
    "outputId": "dcd185e5-dff2-4b85-b288-59607b9228db"
   },
   "outputs": [
    {
     "name": "stdout",
     "output_type": "stream",
     "text": [
      "[[1 3 5]\n",
      " [2 4 6]]\n"
     ]
    }
   ],
   "source": [
    "W = np.array([[1,3,5], [2,4,6]])\n",
    "print(W)"
   ]
  },
  {
   "cell_type": "code",
   "execution_count": 30,
   "metadata": {
    "colab": {
     "base_uri": "https://localhost:8080/",
     "height": 34
    },
    "colab_type": "code",
    "id": "yEBYWc34UBMi",
    "outputId": "8a1c3d83-07e9-4fc4-c62b-e8db32291e9a"
   },
   "outputs": [
    {
     "data": {
      "text/plain": [
       "(2, 3)"
      ]
     },
     "execution_count": 30,
     "metadata": {},
     "output_type": "execute_result"
    }
   ],
   "source": [
    "W.shape"
   ]
  },
  {
   "cell_type": "code",
   "execution_count": 31,
   "metadata": {
    "colab": {},
    "colab_type": "code",
    "id": "Oywi9knfUEvi"
   },
   "outputs": [],
   "source": [
    "Y = np.dot(X,W)"
   ]
  },
  {
   "cell_type": "code",
   "execution_count": 32,
   "metadata": {
    "colab": {
     "base_uri": "https://localhost:8080/",
     "height": 34
    },
    "colab_type": "code",
    "id": "iCkYQ7VsUGy7",
    "outputId": "00474e67-de80-4514-bdb7-810e7fd2ddff"
   },
   "outputs": [
    {
     "name": "stdout",
     "output_type": "stream",
     "text": [
      "[ 5 11 17]\n"
     ]
    }
   ],
   "source": [
    "print(Y)"
   ]
  },
  {
   "cell_type": "markdown",
   "metadata": {
    "colab_type": "text",
    "id": "Tekic56eUJJN"
   },
   "source": [
    "### 3.4. 3층 신경망 구현하기"
   ]
  },
  {
   "cell_type": "markdown",
   "metadata": {
    "colab_type": "text",
    "id": "IMSzgtB7Ujwq"
   },
   "source": [
    "#### 그림 3-15. 3층 신경망"
   ]
  },
  {
   "cell_type": "markdown",
   "metadata": {
    "colab_type": "text",
    "id": "1-gaWeusaD8v"
   },
   "source": [
    "#### 3.4.1. 표기법 설명\n",
    "\n",
    "_w_<sub>12</sub><sup>(1)</sup>, _a_<sup>(1)</sup><sub>1</sub>\n",
    "\n",
    "#### 그림 3-16 중요한 표기\n"
   ]
  },
  {
   "cell_type": "markdown",
   "metadata": {
    "colab_type": "text",
    "id": "1B9rn7dEalTJ"
   },
   "source": [
    "### 3.4.2. 각 층의 신호 전달 구현하기"
   ]
  },
  {
   "cell_type": "code",
   "execution_count": 33,
   "metadata": {
    "colab": {},
    "colab_type": "code",
    "id": "-JtCO82mf2Q4"
   },
   "outputs": [],
   "source": [
    "X = np.array([1.0, 0.5])\n",
    "W1 = np.array([[0.1,0.3,0.5],[0.2,0.4,0.6]])\n",
    "B1 = np.array([0.1,0.2,0.3])"
   ]
  },
  {
   "cell_type": "code",
   "execution_count": 34,
   "metadata": {
    "colab": {},
    "colab_type": "code",
    "id": "32F1aqNtgE8E"
   },
   "outputs": [
    {
     "data": {
      "text/plain": [
       "(2,)"
      ]
     },
     "execution_count": 34,
     "metadata": {},
     "output_type": "execute_result"
    }
   ],
   "source": [
    "X.shape\n",
    "#X 크기 확인 (힌트: .shape )"
   ]
  },
  {
   "cell_type": "code",
   "execution_count": 35,
   "metadata": {
    "colab": {},
    "colab_type": "code",
    "id": "lxsM8Ts3gOTp"
   },
   "outputs": [
    {
     "data": {
      "text/plain": [
       "(2, 3)"
      ]
     },
     "execution_count": 35,
     "metadata": {},
     "output_type": "execute_result"
    }
   ],
   "source": [
    "W1.shape\n",
    "#W1 크기 확인"
   ]
  },
  {
   "cell_type": "code",
   "execution_count": 36,
   "metadata": {
    "colab": {},
    "colab_type": "code",
    "id": "seF674XSgRmL"
   },
   "outputs": [
    {
     "data": {
      "text/plain": [
       "(3,)"
      ]
     },
     "execution_count": 36,
     "metadata": {},
     "output_type": "execute_result"
    }
   ],
   "source": [
    "B1.shape\n",
    "#B1 크기 확인"
   ]
  },
  {
   "cell_type": "code",
   "execution_count": 46,
   "metadata": {
    "colab": {},
    "colab_type": "code",
    "id": "lH_sq5s0gTkU"
   },
   "outputs": [
    {
     "name": "stdout",
     "output_type": "stream",
     "text": [
      "[0.3 0.7 1.1]\n"
     ]
    }
   ],
   "source": [
    "A1 = np.dot(X,W1) + B1\n",
    "print(A1)\n",
    "# X와 W1의 행렬 연산 + B1 (bias)"
   ]
  },
  {
   "cell_type": "markdown",
   "metadata": {
    "colab_type": "text",
    "id": "9tF1WBDvggDX"
   },
   "source": [
    "#### 그림 3-18. 입력층에서 1층으로 신호 전달\n",
    "\n",
    "그림 3-18과 같이 은닉층에서의 가중치 합(가중 신호와 편향의 총합)을 a로 표기하고 활성화 함수 h( )로 변환된 신호를 z로 표기한다. 여기에서는 활성화 함수로 시그모이드 함수를 사용하기로 해보자.\n"
   ]
  },
  {
   "cell_type": "code",
   "execution_count": 0,
   "metadata": {
    "colab": {},
    "colab_type": "code",
    "id": "36b-NpzzhgmC"
   },
   "outputs": [],
   "source": [
    "#시그모이드 함수\n",
    "def sigmoid(x):\n",
    "    return 1 / (1 + np.exp(-x)) "
   ]
  },
  {
   "cell_type": "code",
   "execution_count": 50,
   "metadata": {
    "colab": {
     "base_uri": "https://localhost:8080/",
     "height": 34
    },
    "colab_type": "code",
    "id": "DpgrQju2hHk0",
    "outputId": "1eb6e750-6fd1-4216-9f01-7eeaa61f23c4"
   },
   "outputs": [
    {
     "name": "stdout",
     "output_type": "stream",
     "text": [
      "[0.3 0.7 1.1]\n"
     ]
    }
   ],
   "source": [
    "Z1 = sigmoid(A1)\n",
    "\n",
    "print(A1) #앞에서 A1 출력값을 얻어내야 계산이 가능하다"
   ]
  },
  {
   "cell_type": "code",
   "execution_count": 51,
   "metadata": {
    "colab": {
     "base_uri": "https://localhost:8080/",
     "height": 34
    },
    "colab_type": "code",
    "id": "bW1Pjz_XhNnB",
    "outputId": "1025e871-32d4-425a-a0d6-172431f46e82"
   },
   "outputs": [
    {
     "name": "stdout",
     "output_type": "stream",
     "text": [
      "[0.57444252 0.66818777 0.75026011]\n"
     ]
    }
   ],
   "source": [
    "print(Z1)"
   ]
  },
  {
   "cell_type": "markdown",
   "metadata": {
    "colab_type": "text",
    "id": "gAmgNIhrhjWc"
   },
   "source": [
    "#### 그림 3-19. 1층에서 2층으로의 신호 전달\n"
   ]
  },
  {
   "cell_type": "code",
   "execution_count": 0,
   "metadata": {
    "colab": {},
    "colab_type": "code",
    "id": "NueOQDrzhzOh"
   },
   "outputs": [],
   "source": [
    "W2 = np.array([[0.1, 0.4], [0.2, 0.5], [0.3, 0.6]])\n",
    "B2 = np.array([[0.1, 0.2]])"
   ]
  },
  {
   "cell_type": "code",
   "execution_count": 54,
   "metadata": {
    "colab": {
     "base_uri": "https://localhost:8080/",
     "height": 34
    },
    "colab_type": "code",
    "id": "3zl-Qvv0h6BJ",
    "outputId": "3c33e2c8-0886-435f-c041-d124d2796e7c"
   },
   "outputs": [
    {
     "name": "stdout",
     "output_type": "stream",
     "text": [
      "(3,)\n"
     ]
    }
   ],
   "source": [
    "print(Z1.shape)"
   ]
  },
  {
   "cell_type": "code",
   "execution_count": 55,
   "metadata": {
    "colab": {
     "base_uri": "https://localhost:8080/",
     "height": 34
    },
    "colab_type": "code",
    "id": "8QvJeR-Zima1",
    "outputId": "49bf4eca-9c6a-4b9b-8bf2-1d20162bad82"
   },
   "outputs": [
    {
     "name": "stdout",
     "output_type": "stream",
     "text": [
      "(3, 2)\n"
     ]
    }
   ],
   "source": [
    "print(W2.shape)"
   ]
  },
  {
   "cell_type": "code",
   "execution_count": 56,
   "metadata": {
    "colab": {
     "base_uri": "https://localhost:8080/",
     "height": 34
    },
    "colab_type": "code",
    "id": "WGZcr1mginmu",
    "outputId": "e8b737dd-f886-4acf-b6ec-e115d2e2f23f"
   },
   "outputs": [
    {
     "name": "stdout",
     "output_type": "stream",
     "text": [
      "(1, 2)\n"
     ]
    }
   ],
   "source": [
    "print(B2.shape)"
   ]
  },
  {
   "cell_type": "code",
   "execution_count": 0,
   "metadata": {
    "colab": {},
    "colab_type": "code",
    "id": "gVVJ9knEior2"
   },
   "outputs": [],
   "source": [
    "A2 = np.dot(Z1, W2) + B2 #1층에서 2층으로의 신호 총합(전달)"
   ]
  },
  {
   "cell_type": "code",
   "execution_count": 0,
   "metadata": {
    "colab": {},
    "colab_type": "code",
    "id": "iMhD3mMpivqs"
   },
   "outputs": [],
   "source": [
    "Z2 = sigmoid(A2)"
   ]
  },
  {
   "cell_type": "code",
   "execution_count": 59,
   "metadata": {
    "colab": {
     "base_uri": "https://localhost:8080/",
     "height": 34
    },
    "colab_type": "code",
    "id": "SVf4PHYNi3sn",
    "outputId": "f39e3420-de38-4ccb-8f32-70fb7175e6c7"
   },
   "outputs": [
    {
     "data": {
      "text/plain": [
       "array([[0.62624937, 0.7710107 ]])"
      ]
     },
     "execution_count": 59,
     "metadata": {
      "tags": []
     },
     "output_type": "execute_result"
    }
   ],
   "source": [
    "Z2"
   ]
  },
  {
   "cell_type": "markdown",
   "metadata": {
    "colab_type": "text",
    "id": "oCYCg9Ati5jP"
   },
   "source": [
    "#### 그림 3-20. 2층에서 출력층으로의 신호 전달\n",
    "\n",
    "출력층의 활성화 함수를 &sigma; ()로 표시하여 은닉층의 활성화 함수 _h_()와는 다름을 명시하였음"
   ]
  },
  {
   "cell_type": "code",
   "execution_count": 0,
   "metadata": {
    "colab": {},
    "colab_type": "code",
    "id": "f8QdZ3fFjEZd"
   },
   "outputs": [],
   "source": [
    "def identity_function(x): #항등 함수 = 입력을 그대로 출력하는 함수\n",
    "  return x"
   ]
  },
  {
   "cell_type": "code",
   "execution_count": 0,
   "metadata": {
    "colab": {},
    "colab_type": "code",
    "id": "OR0W4FDVjHYD"
   },
   "outputs": [],
   "source": [
    "W3 = np.array([[0.1, 0.3], [0.2, 0.4]])\n",
    "B3 = np.array([[0.1, 0.2]])"
   ]
  },
  {
   "cell_type": "code",
   "execution_count": 0,
   "metadata": {
    "colab": {},
    "colab_type": "code",
    "id": "REamBg8cjObC"
   },
   "outputs": [],
   "source": [
    "A3 = np.dot(Z2, W3) + B3"
   ]
  },
  {
   "cell_type": "code",
   "execution_count": 0,
   "metadata": {
    "colab": {},
    "colab_type": "code",
    "id": "xbFF97FUjUb1"
   },
   "outputs": [],
   "source": [
    "Y = identity_function(A3) #or Y = A3"
   ]
  },
  {
   "cell_type": "code",
   "execution_count": 67,
   "metadata": {
    "colab": {
     "base_uri": "https://localhost:8080/",
     "height": 34
    },
    "colab_type": "code",
    "id": "e_UV6fXojXUD",
    "outputId": "6015b737-9ef4-4821-8907-89d1518be54c"
   },
   "outputs": [
    {
     "data": {
      "text/plain": [
       "array([[0.31682708, 0.69627909]])"
      ]
     },
     "execution_count": 67,
     "metadata": {
      "tags": []
     },
     "output_type": "execute_result"
    }
   ],
   "source": [
    "Y"
   ]
  },
  {
   "cell_type": "markdown",
   "metadata": {
    "colab_type": "text",
    "id": "-tfOA4R_jdAU"
   },
   "source": [
    "### 3.4.3. 구현 정리\n",
    " \n",
    " 순방향 신경망 구현!"
   ]
  },
  {
   "cell_type": "code",
   "execution_count": 78,
   "metadata": {
    "colab": {
     "base_uri": "https://localhost:8080/",
     "height": 34
    },
    "colab_type": "code",
    "id": "J5eCPD4Sj7JR",
    "outputId": "6ccc905d-82a5-4683-d8f8-954c648745c5"
   },
   "outputs": [
    {
     "name": "stdout",
     "output_type": "stream",
     "text": [
      "[[0.31682708 0.69627909]]\n"
     ]
    }
   ],
   "source": [
    "def init_network(): #가중치와 편향을 초기화 + 딕셔너리 변수인 network에 저장\n",
    "  network = {} #딕셔너리 변수인 network에 각 층에 필요한 매개변수(가중치와 편향)을 저장\n",
    "  network['W1'] = np.array([[0.1,0.3,0.5],[0.2,0.4,0.6]])\n",
    "  network['b1'] = np.array([[0.1,0.2,0.3]])\n",
    "  network['W2'] = np.array([[0.1,0.4],[0.2,0.5],[0.3,0.6]])\n",
    "  network['b2'] = np.array([[0.1,0.2]])\n",
    "  network['W3'] = np.array([[0.1,0.3],[0.2,0.4]])\n",
    "  network['b3'] = np.array([[0.1,0.2]])\n",
    "  \n",
    "  return network\n",
    "\n",
    "def forward(network, x): #입력 신호를 출력으로 변환하는 처리 과정 \n",
    "  W1, W2, W3 = network['W1'], network['W2'], network['W3']\n",
    "  b1, b2, b3 = network['b1'], network['b2'], network['b3']\n",
    "  \n",
    "  a1 = np.dot(x, W1) + b1\n",
    "  z1 = sigmoid(a1)\n",
    "  a2 = np.dot(z1, W2) + b2\n",
    "  z2 = sigmoid(a2)\n",
    "  a3 = np.dot(z2, W3) + b3\n",
    "  y = identity_function(a3)\n",
    "  \n",
    "  return y\n",
    "\n",
    "network = init_network()\n",
    "x = np.array([1.0, 0.5])\n",
    "y = forward(network, x)\n",
    "print(y) #[0.31682708, 0.69627909]\n"
   ]
  },
  {
   "cell_type": "code",
   "execution_count": 0,
   "metadata": {
    "colab": {},
    "colab_type": "code",
    "id": "ywkKy5BTnD8I"
   },
   "outputs": [],
   "source": []
  }
 ],
 "metadata": {
  "colab": {
   "collapsed_sections": [],
   "name": "W4_NeuralNet_Part2.ipynb",
   "provenance": [],
   "version": "0.3.2"
  },
  "kernelspec": {
   "display_name": "Python 3",
   "language": "python",
   "name": "python3"
  },
  "language_info": {
   "codemirror_mode": {
    "name": "ipython",
    "version": 3
   },
   "file_extension": ".py",
   "mimetype": "text/x-python",
   "name": "python",
   "nbconvert_exporter": "python",
   "pygments_lexer": "ipython3",
   "version": "3.7.3"
  }
 },
 "nbformat": 4,
 "nbformat_minor": 1
}
